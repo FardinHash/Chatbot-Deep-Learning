{
  "nbformat": 4,
  "nbformat_minor": 0,
  "metadata": {
    "colab": {
      "name": "Chatbot.ipynb",
      "provenance": [],
      "collapsed_sections": []
    },
    "kernelspec": {
      "name": "python3",
      "display_name": "Python 3"
    },
    "language_info": {
      "name": "python"
    }
  },
  "cells": [
    {
      "cell_type": "code",
      "execution_count": null,
      "metadata": {
        "colab": {
          "base_uri": "https://localhost:8080/"
        },
        "id": "0r7kjhiqrNyL",
        "outputId": "15456a63-163b-4f9c-b9e9-18ea76b8fff4"
      },
      "outputs": [
        {
          "output_type": "stream",
          "name": "stdout",
          "text": [
            "[nltk_data] Downloading package punkt to /root/nltk_data...\n",
            "[nltk_data]   Unzipping tokenizers/punkt.zip.\n"
          ]
        }
      ],
      "source": [
        "import numpy as np\n",
        "import random\n",
        "import json\n",
        "import nltk\n",
        "from nltk.stem.porter import PorterStemmer\n",
        "nltk.download('punkt')\n",
        "import torch\n",
        "import torch.nn as nn\n",
        "from torch.utils.data import Dataset, DataLoader\n",
        "stemmer = PorterStemmer()"
      ]
    },
    {
      "cell_type": "code",
      "source": [
        "def tokenize(sentence):\n",
        "    return nltk.word_tokenize(sentence)"
      ],
      "metadata": {
        "id": "6rUyPAJgiyFI"
      },
      "execution_count": null,
      "outputs": []
    },
    {
      "cell_type": "code",
      "source": [
        "def stem(word):\n",
        "    return stemmer.stem(word.lower())"
      ],
      "metadata": {
        "id": "I_LTRjevi2-t"
      },
      "execution_count": null,
      "outputs": []
    },
    {
      "cell_type": "code",
      "source": [
        "def bag_of_words(tokenized_sentence, words):\n",
        "    sentence_words= [stem(word) for word in tokenized_sentence]\n",
        "    bag= np.zeros(len(words), dtype=np.float32)\n",
        "    for idx, w in enumerate(words):\n",
        "        if w in sentence_words: \n",
        "            bag[idx]= 1\n",
        "    return bag"
      ],
      "metadata": {
        "id": "J7Ph6IoJi5ZE"
      },
      "execution_count": null,
      "outputs": []
    },
    {
      "cell_type": "code",
      "source": [
        "class NeuralNet(nn.Module):\n",
        "    def __init__(self, input_size, hidden_size, num_classes):\n",
        "        super(NeuralNet, self).__init__()\n",
        "        self.l1= nn.Linear(input_size, hidden_size) \n",
        "        self.l2= nn.Linear(hidden_size, hidden_size) \n",
        "        self.l3= nn.Linear(hidden_size, num_classes)\n",
        "        self.relu= nn.ReLU()\n",
        "\n",
        "    def forward(self, x):\n",
        "        out= self.l1(x)\n",
        "        out= self.relu(out)\n",
        "        out= self.l2(out)\n",
        "        out= self.relu(out)\n",
        "        out= self.l3(out)\n",
        "        return out"
      ],
      "metadata": {
        "id": "VNaimdQ_bOtm"
      },
      "execution_count": null,
      "outputs": []
    },
    {
      "cell_type": "code",
      "source": [
        "with open('intents.json', 'r') as f:\n",
        "    intents= json.load(f)"
      ],
      "metadata": {
        "id": "CR16cFJKak1O"
      },
      "execution_count": null,
      "outputs": []
    },
    {
      "cell_type": "code",
      "source": [
        "all_words= []\n",
        "tags= []\n",
        "xy= []\n",
        "for intent in intents['intents']:\n",
        "    tag= intent['tag']\n",
        "    tags.append(tag)\n",
        "    for pattern in intent['patterns']:\n",
        "        w= tokenize(pattern)\n",
        "        all_words.extend(w)\n",
        "        xy.append((w, tag))"
      ],
      "metadata": {
        "id": "4PExF-hAjU7K"
      },
      "execution_count": null,
      "outputs": []
    },
    {
      "cell_type": "code",
      "source": [
        "ignore_words= ['?', '.', '!']\n",
        "all_words= [stem(w) for w in all_words if w not in ignore_words]\n",
        "all_words= sorted(set(all_words))\n",
        "tags= sorted(set(tags))\n",
        "\n",
        "print(len(xy), \"patterns\")\n",
        "print(len(tags), \"tags:\", tags)\n",
        "print(len(all_words), \"unique stemmed words:\", all_words)"
      ],
      "metadata": {
        "colab": {
          "base_uri": "https://localhost:8080/"
        },
        "id": "BKP8FmOsjyUh",
        "outputId": "62b388a1-ce66-41a3-de88-638147d9550e"
      },
      "execution_count": null,
      "outputs": [
        {
          "output_type": "stream",
          "name": "stdout",
          "text": [
            "27 patterns\n",
            "9 tags: ['goodbye', 'greeting', 'hours', 'mopeds', 'opentoday', 'payments', 'rental', 'thanks', 'today']\n",
            "48 unique stemmed words: [\"'d\", \"'s\", 'a', 'accept', 'anyon', 'are', 'bye', 'can', 'card', 'cash', 'credit', 'day', 'do', 'doe', 'good', 'goodby', 'have', 'hello', 'help', 'hi', 'hour', 'how', 'i', 'is', 'kind', 'later', 'like', 'mastercard', 'mope', 'of', 'onli', 'open', 'rent', 'see', 'take', 'thank', 'that', 'there', 'thi', 'to', 'today', 'we', 'what', 'when', 'which', 'work', 'you', 'your']\n"
          ]
        }
      ]
    },
    {
      "cell_type": "code",
      "source": [
        "#Train data\n",
        "X_train= []\n",
        "y_train= []\n",
        "for (pattern_sentence, tag) in xy:\n",
        "    bag= bag_of_words(pattern_sentence, all_words)\n",
        "    X_train.append(bag)\n",
        "    label= tags.index(tag)\n",
        "    y_train.append(label)\n",
        "\n",
        "X_train= np.array(X_train)\n",
        "y_train= np.array(y_train)"
      ],
      "metadata": {
        "id": "ODEa_BX_j-fl"
      },
      "execution_count": null,
      "outputs": []
    },
    {
      "cell_type": "code",
      "source": [
        "#parameter tuning\n",
        "num_epochs= 1000\n",
        "batch_size= 8\n",
        "learning_rate= 0.001\n",
        "input_size= len(X_train[0])\n",
        "hidden_size= 8\n",
        "output_size= len(tags)\n",
        "print(input_size, output_size)"
      ],
      "metadata": {
        "colab": {
          "base_uri": "https://localhost:8080/"
        },
        "id": "pCUoVM4ckLAC",
        "outputId": "d1e9e5b7-bf12-4d5b-d2df-89ec9230e218"
      },
      "execution_count": null,
      "outputs": [
        {
          "output_type": "stream",
          "name": "stdout",
          "text": [
            "48 9\n"
          ]
        }
      ]
    },
    {
      "cell_type": "code",
      "source": [
        "class ChatDataset(Dataset):\n",
        "    def __init__(self):\n",
        "        self.n_samples= len(X_train)\n",
        "        self.x_data= X_train\n",
        "        self.y_data= y_train\n",
        "\n",
        "    def __getitem__(self, index):\n",
        "        return self.x_data[index], self.y_data[index]\n",
        "\n",
        "    def __len__(self):\n",
        "        return self.n_samples"
      ],
      "metadata": {
        "id": "QxjCLjTxkbkR"
      },
      "execution_count": null,
      "outputs": []
    },
    {
      "cell_type": "code",
      "source": [
        "dataset= ChatDataset()\n",
        "train_loader= DataLoader(dataset=dataset,\n",
        "                          batch_size=batch_size,\n",
        "                          shuffle=True,\n",
        "                          num_workers=0)"
      ],
      "metadata": {
        "id": "DLpDGxBQkshM"
      },
      "execution_count": null,
      "outputs": []
    },
    {
      "cell_type": "code",
      "source": [
        "device= torch.device('cuda' if torch.cuda.is_available() else 'cpu')"
      ],
      "metadata": {
        "id": "BGpGplMqkxKx"
      },
      "execution_count": null,
      "outputs": []
    },
    {
      "cell_type": "code",
      "source": [
        "model= NeuralNet(input_size, hidden_size, output_size).to(device)"
      ],
      "metadata": {
        "id": "Cc5FO33Ck0qI"
      },
      "execution_count": null,
      "outputs": []
    },
    {
      "cell_type": "code",
      "source": [
        "criterion= nn.CrossEntropyLoss()\n",
        "optimizer= torch.optim.Adam(model.parameters(), lr=learning_rate)"
      ],
      "metadata": {
        "id": "s-NdyESNlBnz"
      },
      "execution_count": null,
      "outputs": []
    },
    {
      "cell_type": "code",
      "source": [
        "#Model training\n",
        "for epoch in range(num_epochs):\n",
        "    for (words, labels) in train_loader:\n",
        "        words= words.to(device)\n",
        "        labels= labels.to(dtype=torch.long).to(device)\n",
        "        outputs= model(words)\n",
        "        loss= criterion(outputs, labels)\n",
        "        optimizer.zero_grad()\n",
        "        loss.backward()\n",
        "        optimizer.step()\n",
        "        \n",
        "    if (epoch+1)%100== 0:\n",
        "        print (f'Epoch [{epoch+1}/{num_epochs}], Loss: {loss.item():.4f}')\n",
        "print(f'final loss: {loss.item():.4f}')"
      ],
      "metadata": {
        "colab": {
          "base_uri": "https://localhost:8080/"
        },
        "id": "yZDK9CLNk7Y_",
        "outputId": "037e42de-97c8-4b47-ed05-4bfe9fbe4841"
      },
      "execution_count": null,
      "outputs": [
        {
          "output_type": "stream",
          "name": "stdout",
          "text": [
            "Epoch [100/1000], Loss: 1.3237\n",
            "Epoch [200/1000], Loss: 1.0842\n",
            "Epoch [300/1000], Loss: 0.1073\n",
            "Epoch [400/1000], Loss: 0.0335\n",
            "Epoch [500/1000], Loss: 0.0121\n",
            "Epoch [600/1000], Loss: 0.0061\n",
            "Epoch [700/1000], Loss: 0.0034\n",
            "Epoch [800/1000], Loss: 0.0035\n",
            "Epoch [900/1000], Loss: 0.0071\n",
            "Epoch [1000/1000], Loss: 0.0004\n",
            "final loss: 0.0004\n"
          ]
        }
      ]
    },
    {
      "cell_type": "code",
      "source": [
        "data= {\n",
        "\"model_state\": model.state_dict(),\n",
        "\"input_size\": input_size,\n",
        "\"hidden_size\": hidden_size,\n",
        "\"output_size\": output_size,\n",
        "\"all_words\": all_words,\n",
        "\"tags\": tags\n",
        "}"
      ],
      "metadata": {
        "id": "U2-9qVDLletn"
      },
      "execution_count": null,
      "outputs": []
    },
    {
      "cell_type": "code",
      "source": [
        "FILE= \"data.pth\"\n",
        "torch.save(data, FILE)\n",
        "print(f'Training done. file saved to {FILE}')"
      ],
      "metadata": {
        "colab": {
          "base_uri": "https://localhost:8080/"
        },
        "id": "OLwVLEmxmyAH",
        "outputId": "dc8429b6-1f34-44dd-f07a-81506b8fcd8c"
      },
      "execution_count": null,
      "outputs": [
        {
          "output_type": "stream",
          "name": "stdout",
          "text": [
            "training complete. file saved to data.pth\n"
          ]
        }
      ]
    },
    {
      "cell_type": "code",
      "source": [
        "with open('/content/intents.json', 'r') as json_data:\n",
        "    intents= json.load(json_data)\n",
        "FILE= \"data.pth\"\n",
        "data= torch.load(FILE)"
      ],
      "metadata": {
        "id": "NMG2dPcDbp24"
      },
      "execution_count": null,
      "outputs": []
    },
    {
      "cell_type": "code",
      "source": [
        "input_size= data[\"input_size\"]\n",
        "hidden_size= data[\"hidden_size\"]\n",
        "output_size= data[\"output_size\"]\n",
        "all_words= data['all_words']\n",
        "tags= data['tags']\n",
        "model_state= data[\"model_state\"]\n",
        "\n",
        "model= NeuralNet(input_size, hidden_size, output_size).to(device)\n",
        "model.load_state_dict(model_state)\n",
        "model.eval()"
      ],
      "metadata": {
        "colab": {
          "base_uri": "https://localhost:8080/"
        },
        "id": "3Z6MmkgenXpN",
        "outputId": "5c445c10-e141-40c8-e38c-4740e2821633"
      },
      "execution_count": null,
      "outputs": [
        {
          "output_type": "execute_result",
          "data": {
            "text/plain": [
              "NeuralNet(\n",
              "  (l1): Linear(in_features=48, out_features=8, bias=True)\n",
              "  (l2): Linear(in_features=8, out_features=8, bias=True)\n",
              "  (l3): Linear(in_features=8, out_features=9, bias=True)\n",
              "  (relu): ReLU()\n",
              ")"
            ]
          },
          "metadata": {},
          "execution_count": 21
        }
      ]
    },
    {
      "cell_type": "code",
      "source": [
        "bot= \"Doctor AI\"\n",
        "print(\"Let's chat! (type 'quit' to exit)\")\n",
        "while True:\n",
        "    sentence= input(\"You: \")\n",
        "    if sentence== \"quit\":\n",
        "        break\n",
        "\n",
        "    sentence= tokenize(sentence)\n",
        "    X= bag_of_words(sentence, all_words)\n",
        "    X= X.reshape(1, X.shape[0])\n",
        "    X= torch.from_numpy(X).to(device)\n",
        "\n",
        "    output= model(X)\n",
        "    _,predicted= torch.max(output, dim=1)\n",
        "    tag= tags[predicted.item()]\n",
        "\n",
        "    probs= torch.softmax(output, dim=1)\n",
        "    prob= probs[0][predicted.item()]\n",
        "    if prob.item() > 0.75:\n",
        "        for intent in intents['intents']:\n",
        "            if tag== intent[\"tag\"]:\n",
        "                print(f\"{bot}: {random.choice(intent['responses'])}\")\n",
        "    else:\n",
        "        print(f\"{bot}: I do not understand, say again please..\")"
      ],
      "metadata": {
        "colab": {
          "base_uri": "https://localhost:8080/"
        },
        "id": "NK85pQYDndmc",
        "outputId": "a1b3fc0b-f444-44a2-8192-f9957e920681"
      },
      "execution_count": null,
      "outputs": [
        {
          "name": "stdout",
          "output_type": "stream",
          "text": [
            "Let's chat! (type 'quit' to exit)\n",
            "You: hi\n",
            "Doctor AI: Hello, thanks for visiting\n",
            "You: Hello\n",
            "Doctor AI: Good to see you again\n",
            "You: Do you take credit cards\n",
            "Doctor AI: We accept VISA, Mastercard and AMEX\n",
            "You: open hours\n",
            "Doctor AI: I do not understand, say again please..\n",
            "You: open hours\n",
            "Doctor AI: I do not understand, say again please..\n",
            "You: quit\n"
          ]
        }
      ]
    }
  ]
}